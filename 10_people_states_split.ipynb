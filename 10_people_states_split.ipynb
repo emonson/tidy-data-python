{
 "cells": [
  {
   "cell_type": "markdown",
   "metadata": {},
   "source": [
    "## Tidy data with Pandas\n",
    "\n",
    "[Pandas](http://pandas.pydata.org/) is the Python module that lets you efficiently deal with tabular data, which is data in columns, where each column has a certain type, and each row is a specific record of that combination of columns of data.\n",
    "\n",
    "Pandas can do many things, but what I end up using it for most often is to load in and manipulate data that I want to transform for another program, or that I want to run machine learning routines on. Those manipulations can be cleaning, joining with other data tables, or changing the form so that it's \"tidy\" or \"tall\", which is required for programs like Tableau.\n",
    "\n",
    "Hadley Wickham, who is very influential in the R world, wrote [this paper](http://vita.had.co.nz/papers/tidy-data.pdf) spelling out what \"tidy\" data is. There was also a [recent blog post](http://www.jeannicholashould.com/tidy-data-in-python.html) showing how to do many of those examples using Python and Pandas, which taught me a lot. From that post:\n",
    "\n",
    "#### Defining tidy data\n",
    "\n",
    "The structure Wickham defines as tidy has the following attributes:\n",
    "\n",
    "* Each variable forms a column and contains values\n",
    "* Each observation forms a row\n",
    "* Each type of observational unit forms a table\n",
    "\n",
    "A few definitions:\n",
    "\n",
    "* Variable: A measurement or an attribute. Height, weight, sex, etc.\n",
    "* Value: The actual measurement or attribute. 152 cm, 80 kg, female, etc.\n",
    "* Observation: All values measure on the same unit. Each person.\n"
   ]
  },
  {
   "cell_type": "code",
   "execution_count": null,
   "metadata": {
    "collapsed": true
   },
   "outputs": [],
   "source": [
    "# In Python we need to import any modules we're going to use\n",
    "# and we can give them (standard) shorter names\n",
    "\n",
    "import pandas as pd"
   ]
  },
  {
   "cell_type": "code",
   "execution_count": null,
   "metadata": {},
   "outputs": [],
   "source": [
    "# This is a bash shell command to see what's in our current directory\n",
    "!ls"
   ]
  },
  {
   "cell_type": "markdown",
   "metadata": {},
   "source": [
    "### Splitting lists into columns\n",
    "\n",
    "This first example is jumping right in to a complicated situation, but one I haven't seen documented very many places, and one I run into all the time."
   ]
  },
  {
   "cell_type": "code",
   "execution_count": null,
   "metadata": {},
   "outputs": [],
   "source": [
    "# The data is in a sub-folder called \"data\"\n",
    "# read_excel will read the first sheet in the workbook if you don't specify another\n",
    "\n",
    "ps = pd.read_excel('./data/PeopleStates.xlsx')\n",
    "ps"
   ]
  },
  {
   "cell_type": "code",
   "execution_count": null,
   "metadata": {},
   "outputs": [],
   "source": [
    "# string operations will be applied to each row\n",
    "# will end up with a single column of lists if don't put expand=True\n",
    "\n",
    "psplit = ps.states.str.split(',', expand=True)\n",
    "psplit"
   ]
  },
  {
   "cell_type": "code",
   "execution_count": null,
   "metadata": {},
   "outputs": [],
   "source": [
    "# concat will use the index to align rows\n",
    "\n",
    "pexp = pd.concat([ps.name, psplit], axis=1)\n",
    "pexp"
   ]
  },
  {
   "cell_type": "markdown",
   "metadata": {},
   "source": [
    "### Un-pivoting into tall format\n",
    "\n",
    "Tableau calls this pivoting, but many call this un-pivoting since a pivot table in Excel puts things from the tall format into wide. In Pandas you do a \"melt\". In `tidyr` this is a \"gather\". In OpenRefine it's a Transpose Colunns into Rows operation."
   ]
  },
  {
   "cell_type": "code",
   "execution_count": null,
   "metadata": {},
   "outputs": [],
   "source": [
    "# id_vars will be repeated and not un-pivoted\n",
    "# all others will be melted down into a single column (values)\n",
    "# with the column names as a separate column (variables)\n",
    "\n",
    "ptidy = pd.melt(pexp, id_vars=['name'], value_name='state')\n",
    "ptidy.head(8)"
   ]
  },
  {
   "cell_type": "code",
   "execution_count": null,
   "metadata": {},
   "outputs": [],
   "source": [
    "# since we didn't specify a var_name for melt(), it defaulted to \"variable\"\n",
    "# can specify a list to select only certain columns, dropping others not needed\n",
    "\n",
    "ptidy = ptidy[['name','state']]\n",
    "ptidy"
   ]
  },
  {
   "cell_type": "code",
   "execution_count": null,
   "metadata": {},
   "outputs": [],
   "source": [
    "# many methods include an \"inplace\" argument, so it won't make a copy\n",
    "# NOTE: you're writing over your data in place!\n",
    "\n",
    "ptidy.dropna(inplace=True)"
   ]
  },
  {
   "cell_type": "code",
   "execution_count": null,
   "metadata": {},
   "outputs": [],
   "source": [
    "ptidy.sort_values(by='name', inplace=True)\n",
    "ptidy"
   ]
  },
  {
   "cell_type": "markdown",
   "metadata": {},
   "source": [
    "### Merging (joining) two data sets\n",
    "\n",
    "Here we'll read in a second sheet out of that same workbook and join this state-level data with the people/states data we just modified"
   ]
  },
  {
   "cell_type": "code",
   "execution_count": null,
   "metadata": {},
   "outputs": [],
   "source": [
    "sp = pd.read_excel('./data/PeopleStates.xlsx', sheetname='Sheet2')\n",
    "sp.tail(5)"
   ]
  },
  {
   "cell_type": "code",
   "execution_count": null,
   "metadata": {},
   "outputs": [],
   "source": [
    "ppop = pd.merge(ptidy, sp, how='left', left_on='state', right_on='state')\n",
    "ppop.sort_values('population_2010', ascending=False, inplace=True)\n",
    "ppop"
   ]
  },
  {
   "cell_type": "markdown",
   "metadata": {
    "collapsed": true
   },
   "source": [
    "### Saving table out to a file\n",
    "\n",
    "Usually we can save to an Excel file, but we'd need to install another module\n",
    "so, save as JSON for now. There are multiple \"orientations\":\n",
    "[to_json docs](http://pandas.pydata.org/pandas-docs/stable/generated/pandas.DataFrame.to_json.html)"
   ]
  },
  {
   "cell_type": "code",
   "execution_count": null,
   "metadata": {},
   "outputs": [],
   "source": [
    "# 'records' orientation will make a list of rows, each an object/dictionary\n",
    "\n",
    "ppop.to_json('./data/PeopleStates_Merged.json', orient='records')"
   ]
  }
 ],
 "metadata": {
  "kernelspec": {
   "display_name": "Python 3",
   "language": "python",
   "name": "python3"
  },
  "language_info": {
   "codemirror_mode": {
    "name": "ipython",
    "version": 3
   },
   "file_extension": ".py",
   "mimetype": "text/x-python",
   "name": "python",
   "nbconvert_exporter": "python",
   "pygments_lexer": "ipython3",
   "version": "3.6.2"
  }
 },
 "nbformat": 4,
 "nbformat_minor": 2
}
