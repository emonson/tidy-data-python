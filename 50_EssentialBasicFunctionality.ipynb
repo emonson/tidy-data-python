{
 "cells": [
  {
   "cell_type": "markdown",
   "metadata": {},
   "source": [
    "## Essential Basic Functionality\n",
    "\n",
    "https://pandas.pydata.org/pandas-docs/stable/getting_started/overview.html\n",
    "\n",
    "pandas is well suited for many different kinds of data, but most of the time we use it for **tabular data with heterogeneously-typed columns**, as in an SQL table or Excel spreadsheet\n",
    "\n",
    "Here are just a few of the things that Pandas does well:\n",
    "\n",
    "- Easy handling of missing data (represented as NaN)\n",
    "- Automatic and explicit data alignment\n",
    "- Powerful, flexible group by functionality to perform split-apply-combine operations on data sets, for both aggregating and transforming data\n",
    "- Intelligent label-based slicing, fancy indexing, and subsetting of large data sets\n",
    "- Intuitive merging and joining data sets\n",
    "- Flexible reshaping and pivoting of data sets\n",
    "- Robust IO tools for loading data from flat files (CSV and delimited), Excel files, databases, and saving / loading data from the ultrafast HDF5 format\n",
    "- Time series-specific functionality: date range generation and frequency conversion, moving window statistics, date shifting and lagging, etc"
   ]
  },
  {
   "cell_type": "markdown",
   "metadata": {},
   "source": [
    "### Data Structures\n",
    "\n",
    "- **Series**\t1D labeled homogeneously-typed array\n",
    "    - Container for scalars or strings\n",
    "    - Each one has an index and potentially a name\n",
    "- **DataFrame**\tGeneral 2D labeled, size-mutable tabular structure with potentially heterogeneously-typed column\n",
    "    - Container for Series\n",
    "    - Overall index, and each Series (column) has a name\n",
    "\n",
    "**We would like to be able to insert and remove objects from these containers in a dictionary-like fashion.**\n",
    "\n",
    "**NumPy arrays have one dtype for the entire array, while pandas DataFrames have one dtype per column.**"
   ]
  },
  {
   "cell_type": "code",
   "execution_count": 1,
   "metadata": {},
   "outputs": [],
   "source": [
    "# Differences between storing in lists and dictionaries\n",
    "# Dictionary of lists, but each list is really another dictionary where things align\n",
    "#   like in an Excel spreadsheet, where rows automatically align\n",
    "# Here it's not possible to accidentally sort one column and not the others!"
   ]
  },
  {
   "cell_type": "markdown",
   "metadata": {},
   "source": [
    "#### SettingWithCopy Warning\n",
    "\n",
    "Sometimes a `SettingWithCopy` warning will arise at times when there’s no obvious chained indexing going on. These are the bugs that SettingWithCopy is designed to catch! Pandas is probably trying to warn you that you’ve done this:\n",
    "\n",
    "```\n",
    "def do_something(df):\n",
    "    foo = df[['bar', 'baz']]  # Is foo a view? A copy? Nobody knows!\n",
    "    # ... many lines here ...\n",
    "    # We don't know whether this will modify df or not!\n",
    "    foo['quux'] = value\n",
    "    return foo\n",
    "```"
   ]
  },
  {
   "cell_type": "code",
   "execution_count": null,
   "metadata": {},
   "outputs": [],
   "source": []
  }
 ],
 "metadata": {
  "kernelspec": {
   "display_name": "Python 3",
   "language": "python",
   "name": "python3"
  },
  "language_info": {
   "codemirror_mode": {
    "name": "ipython",
    "version": 3
   },
   "file_extension": ".py",
   "mimetype": "text/x-python",
   "name": "python",
   "nbconvert_exporter": "python",
   "pygments_lexer": "ipython3",
   "version": "3.7.3"
  }
 },
 "nbformat": 4,
 "nbformat_minor": 4
}
