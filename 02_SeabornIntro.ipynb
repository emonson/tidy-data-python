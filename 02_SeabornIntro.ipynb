{
 "cells": [
  {
   "cell_type": "markdown",
   "metadata": {},
   "source": [
    "## Why tidy data is useful for exploratory analysis\n",
    "\n",
    "- Visualizing individuals, distributions or aggregations of numerical measures\n",
    "- Splitting by categorical variables\n",
    "    - separating subsets spatially along an axis, \n",
    "    - distinguishing by color,\n",
    "    - or making separate plots in columns or rows\n",
    "    \n",
    "*The tips dataset is really nice for exploring differences between numerical values and distributions across a population distinguished by lots of categorical variables.*"
   ]
  },
  {
   "cell_type": "code",
   "execution_count": null,
   "metadata": {
    "collapsed": true
   },
   "outputs": [],
   "source": [
    "import seaborn as sns\n",
    "sns.set_style(\"whitegrid\")\n",
    "\n",
    "tips = sns.load_dataset(\"tips\")\n",
    "\n",
    "tips.head(10)"
   ]
  },
  {
   "cell_type": "markdown",
   "metadata": {},
   "source": [
    "### Individual variables & distributions\n",
    "\n",
    "The most basic form of exploration is to visualize the distribution of values in a numerical column. A histogram is the most classic, but there are some nice alternatives for smaller data sets.\n",
    "\n",
    "#### Swarm plot \n",
    "\n",
    "One interesting alternative is a `swarmplot()`. Points are stacked at their data value rather than overlapping. This doesn't scale very well to huge datasets, but with small data it's nice to see each individual point as a mark."
   ]
  },
  {
   "cell_type": "code",
   "execution_count": null,
   "metadata": {},
   "outputs": [],
   "source": [
    "ax = sns.swarmplot(y=\"total_bill\", data=tips)"
   ]
  },
  {
   "cell_type": "markdown",
   "metadata": {},
   "source": [
    "### Splitting by a categorical variable\n",
    "\n",
    "Now we can start seeing the power of splitting / subsetting the data (in space and/or color) by the values of a categorial variable. Here we split in space by \"day\". \n",
    "\n",
    "*(It's not clear why, but Seaborn's default is to also vary the color for each day, so I'm forcing it to all one color.)*\n",
    "\n",
    "Colors can be specified through \n",
    "[RBGA values](https://matplotlib.org/users/colors.html), or \n",
    "[names](https://python-graph-gallery.com/100-calling-a-color-with-seaborn/), or they will be sequentially chosen from the default or specified\n",
    "[color palette](https://seaborn.pydata.org/tutorial/color_palettes.html)."
   ]
  },
  {
   "cell_type": "code",
   "execution_count": null,
   "metadata": {},
   "outputs": [],
   "source": [
    "ax = sns.swarmplot(x=\"day\", y=\"total_bill\", color='grey', data=tips)"
   ]
  },
  {
   "cell_type": "markdown",
   "metadata": {},
   "source": [
    "#### Splitting by space and hue\n",
    "\n",
    "Then we can also split by hue at the same time, either mixed together"
   ]
  },
  {
   "cell_type": "code",
   "execution_count": null,
   "metadata": {},
   "outputs": [],
   "source": [
    "ax = sns.swarmplot(x=\"day\", y=\"total_bill\", hue=\"sex\", data=tips)"
   ]
  },
  {
   "cell_type": "markdown",
   "metadata": {},
   "source": [
    "or in separate strips with \"dodge\""
   ]
  },
  {
   "cell_type": "code",
   "execution_count": null,
   "metadata": {},
   "outputs": [],
   "source": [
    "ax = sns.swarmplot(x=\"day\", y=\"total_bill\", hue=\"sex\", dodge=True, data=tips)"
   ]
  },
  {
   "cell_type": "markdown",
   "metadata": {},
   "source": [
    "#### More complex splits\n",
    "\n",
    "Then with other plot types we can split and aggregate (here calculating means and confidence intervals) in even more complex ways.\n",
    "\n",
    "**If we the data wasn't tidy, we wouldn't have this flexibility to split or aggregate numerical variables by categorical ones!**"
   ]
  },
  {
   "cell_type": "code",
   "execution_count": null,
   "metadata": {},
   "outputs": [],
   "source": [
    "ax = sns.catplot(x=\"day\", y=\"total_bill\", hue=\"sex\", \n",
    "                 kind=\"point\", col=\"smoker\", dodge=True,\n",
    "                 data=tips)"
   ]
  }
 ],
 "metadata": {
  "kernelspec": {
   "display_name": "Python 3",
   "language": "python",
   "name": "python3"
  },
  "language_info": {
   "codemirror_mode": {
    "name": "ipython",
    "version": 3
   },
   "file_extension": ".py",
   "mimetype": "text/x-python",
   "name": "python",
   "nbconvert_exporter": "python",
   "pygments_lexer": "ipython3",
   "version": "3.6.5"
  }
 },
 "nbformat": 4,
 "nbformat_minor": 2
}
