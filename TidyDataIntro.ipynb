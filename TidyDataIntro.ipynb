{
 "cells": [
  {
   "cell_type": "markdown",
   "metadata": {},
   "source": [
    "## Tidy Data Introduction\n",
    "\n",
    "Based on [Tidy Data](http://vita.had.co.nz/papers/tidy-data.html), by Hadley Wickham  \n",
    "*The Journal of Statistical Software, vol. 59, 2014.*\n",
    "\n",
    "Download: [pre-print](http://vita.had.co.nz/papers/tidy-data.pdf) | [from publisher](http://www.jstatsoft.org/v59/i10/)\n",
    "\n",
    "---"
   ]
  },
  {
   "cell_type": "code",
   "execution_count": 1,
   "metadata": {
    "collapsed": true
   },
   "outputs": [],
   "source": [
    "import pandas as pd\n",
    "import numpy as np"
   ]
  },
  {
   "cell_type": "markdown",
   "metadata": {},
   "source": [
    "### Data structure\n",
    "\n",
    "We focus here on tabluar data, which are rectangular \"spreadsheets\" made up of **rows** and **columns**.\n",
    "\n",
    "In Pandas this is stored in a `DataFrame`. There are many ways to create DataFrames. In this workshop we will mostly load data in from commma-separated value (CSV) files, but here I will use one of the many methods to create them manually, just so you've seen an example.\n",
    "\n",
    "There are a lot of great online documentation and tutorials on Pandas, including the [offical documentation site](https://pandas.pydata.org/pandas-docs/stable/10min.html)"
   ]
  },
  {
   "cell_type": "code",
   "execution_count": 2,
   "metadata": {
    "collapsed": false
   },
   "outputs": [
    {
     "data": {
      "text/html": [
       "<div>\n",
       "<table border=\"1\" class=\"dataframe\">\n",
       "  <thead>\n",
       "    <tr style=\"text-align: right;\">\n",
       "      <th></th>\n",
       "      <th>treatment a</th>\n",
       "      <th>treatment b</th>\n",
       "    </tr>\n",
       "  </thead>\n",
       "  <tbody>\n",
       "    <tr>\n",
       "      <th>John</th>\n",
       "      <td>NaN</td>\n",
       "      <td>2</td>\n",
       "    </tr>\n",
       "    <tr>\n",
       "      <th>Jane</th>\n",
       "      <td>16.0</td>\n",
       "      <td>11</td>\n",
       "    </tr>\n",
       "    <tr>\n",
       "      <th>Mary</th>\n",
       "      <td>3.0</td>\n",
       "      <td>1</td>\n",
       "    </tr>\n",
       "  </tbody>\n",
       "</table>\n",
       "</div>"
      ],
      "text/plain": [
       "      treatment a  treatment b\n",
       "John          NaN            2\n",
       "Jane         16.0           11\n",
       "Mary          3.0            1"
      ]
     },
     "execution_count": 2,
     "metadata": {},
     "output_type": "execute_result"
    }
   ],
   "source": [
    "df = pd.DataFrame({'treatment a':[np.nan, 16, 3],\n",
    "                   'treatment b':[2, 11, 1]},\n",
    "                 index=[\"John\", \"Jane\", \"Mary\"])\n",
    "df"
   ]
  },
  {
   "cell_type": "markdown",
   "metadata": {},
   "source": [
    "If we transpose the rows and columns, it's somehow the same data, but we need a way to talk about the information contained here, and understand what structure will lead us to the easiest analysis and visualization"
   ]
  },
  {
   "cell_type": "code",
   "execution_count": 3,
   "metadata": {
    "collapsed": false
   },
   "outputs": [
    {
     "data": {
      "text/html": [
       "<div>\n",
       "<table border=\"1\" class=\"dataframe\">\n",
       "  <thead>\n",
       "    <tr style=\"text-align: right;\">\n",
       "      <th></th>\n",
       "      <th>John</th>\n",
       "      <th>Jane</th>\n",
       "      <th>Mary</th>\n",
       "    </tr>\n",
       "  </thead>\n",
       "  <tbody>\n",
       "    <tr>\n",
       "      <th>treatment a</th>\n",
       "      <td>NaN</td>\n",
       "      <td>16.0</td>\n",
       "      <td>3.0</td>\n",
       "    </tr>\n",
       "    <tr>\n",
       "      <th>treatment b</th>\n",
       "      <td>2.0</td>\n",
       "      <td>11.0</td>\n",
       "      <td>1.0</td>\n",
       "    </tr>\n",
       "  </tbody>\n",
       "</table>\n",
       "</div>"
      ],
      "text/plain": [
       "             John  Jane  Mary\n",
       "treatment a   NaN  16.0   3.0\n",
       "treatment b   2.0  11.0   1.0"
      ]
     },
     "execution_count": 3,
     "metadata": {},
     "output_type": "execute_result"
    }
   ],
   "source": [
    "df.T"
   ]
  },
  {
   "cell_type": "markdown",
   "metadata": {},
   "source": [
    "### Data semantics\n",
    "\n",
    "Datasets contain **values**\n",
    "\n",
    "- Numbers (quantitative)\n",
    "- Strings (qualitative, or categorical)\n",
    "\n",
    "Think of a **table** as a spreadsheet of values, describing the attributes of a type of thing which can be named, like people, corporations, phone numbers, trips people took, recipes, ingredients, experimental measurements, etc.\n",
    "\n",
    "- The rows are the individual instances of that thing the table is recording\n",
    "- The columns describe the various attributes of that individual instance of the thing\n",
    "\n",
    "So, every value belongs to a **variable** (column) and an **observation** (row)\n",
    "\n",
    "- A variable contains all values of the same attribute (height, temperature, duration...)\n",
    "- An observation contains all values recorded on one instance or unit (one person, one day, one trip, one company, one letter someone wrote...)\n",
    "\n",
    "---\n",
    "\n",
    "We will reorganize the previous table to make the values, variables and observations more clear. \n"
   ]
  },
  {
   "cell_type": "code",
   "execution_count": 4,
   "metadata": {
    "collapsed": false
   },
   "outputs": [
    {
     "data": {
      "text/html": [
       "<div>\n",
       "<table border=\"1\" class=\"dataframe\">\n",
       "  <thead>\n",
       "    <tr style=\"text-align: right;\">\n",
       "      <th></th>\n",
       "      <th>person</th>\n",
       "      <th>result</th>\n",
       "      <th>treatment</th>\n",
       "    </tr>\n",
       "  </thead>\n",
       "  <tbody>\n",
       "    <tr>\n",
       "      <th>0</th>\n",
       "      <td>John</td>\n",
       "      <td>NaN</td>\n",
       "      <td>a</td>\n",
       "    </tr>\n",
       "    <tr>\n",
       "      <th>1</th>\n",
       "      <td>Jane</td>\n",
       "      <td>16.0</td>\n",
       "      <td>a</td>\n",
       "    </tr>\n",
       "    <tr>\n",
       "      <th>2</th>\n",
       "      <td>Mary</td>\n",
       "      <td>3.0</td>\n",
       "      <td>a</td>\n",
       "    </tr>\n",
       "    <tr>\n",
       "      <th>3</th>\n",
       "      <td>John</td>\n",
       "      <td>2.0</td>\n",
       "      <td>b</td>\n",
       "    </tr>\n",
       "    <tr>\n",
       "      <th>4</th>\n",
       "      <td>Jane</td>\n",
       "      <td>11.0</td>\n",
       "      <td>b</td>\n",
       "    </tr>\n",
       "    <tr>\n",
       "      <th>5</th>\n",
       "      <td>Mary</td>\n",
       "      <td>1.0</td>\n",
       "      <td>b</td>\n",
       "    </tr>\n",
       "  </tbody>\n",
       "</table>\n",
       "</div>"
      ],
      "text/plain": [
       "  person  result treatment\n",
       "0   John     NaN         a\n",
       "1   Jane    16.0         a\n",
       "2   Mary     3.0         a\n",
       "3   John     2.0         b\n",
       "4   Jane    11.0         b\n",
       "5   Mary     1.0         b"
      ]
     },
     "execution_count": 4,
     "metadata": {},
     "output_type": "execute_result"
    }
   ],
   "source": [
    "df2 = pd.DataFrame({\"person\":['John', 'Jane', 'Mary', 'John', 'Jane', 'Mary'],\n",
    "                   \"treatment\":['a', 'a', 'a', 'b', 'b', 'b'],\n",
    "                   \"result\":[np.nan, 16, 3, 2, 11, 1]})\n",
    "df2"
   ]
  },
  {
   "cell_type": "markdown",
   "metadata": {},
   "source": [
    "The dataset contains 18 values representing 3 variables and 6 observations\n",
    "\n",
    "1. **person**, with three possible values (John, Mary and Jane)\n",
    "2. **treatment**, with two possible values (a and b)\n",
    "3. **result**, with five or six possible values, depending on how you think of the missing value (-, 16, 3, 2, 11, 1)\n"
   ]
  },
  {
   "cell_type": "markdown",
   "metadata": {},
   "source": [
    "### Tidy data\n",
    "\n",
    "Tidy data is a standard way of mapping the meaning of a dataset to its structure. *A dataset is messy or tidy depending on how rows, columns and tables are matched up with observations, variables and types.*\n",
    "\n",
    "In **tidy data**\n",
    "\n",
    "1. Each variable forms a column\n",
    "2. Each observation forms a row\n",
    "3. Each type of observational unit forms a table\n",
    "\n",
    "**messy data** is any other arrangement of the data.\n",
    "\n",
    "---\n",
    "\n",
    "*Fixed variables* describe the experimental design and are known in advance. These are often called (as in Tableau) **dimensions**.\n",
    "\n",
    "*Measured varibles* are what we actually measure in the experiment/study. These are called **measures**."
   ]
  },
  {
   "cell_type": "code",
   "execution_count": null,
   "metadata": {
    "collapsed": true
   },
   "outputs": [],
   "source": []
  }
 ],
 "metadata": {
  "kernelspec": {
   "display_name": "Python 3",
   "language": "python",
   "name": "python3"
  },
  "language_info": {
   "codemirror_mode": {
    "name": "ipython",
    "version": 3
   },
   "file_extension": ".py",
   "mimetype": "text/x-python",
   "name": "python",
   "nbconvert_exporter": "python",
   "pygments_lexer": "ipython3",
   "version": "3.5.2"
  }
 },
 "nbformat": 4,
 "nbformat_minor": 2
}
