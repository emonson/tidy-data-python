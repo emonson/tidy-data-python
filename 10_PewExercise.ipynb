{
 "cells": [
  {
   "cell_type": "markdown",
   "metadata": {},
   "source": [
    "### Pew Research Center Dataset\n",
    "\n",
    "This dataset explores the relationship between income and religion.\n",
    "\n",
    "Problem: \n",
    "\n",
    "- The columns headers are composed of the possible income values."
   ]
  },
  {
   "cell_type": "code",
   "execution_count": null,
   "metadata": {
    "collapsed": true
   },
   "outputs": [],
   "source": [
    "import pandas as pd"
   ]
  },
  {
   "cell_type": "code",
   "execution_count": null,
   "metadata": {
    "slideshow": {
     "slide_type": "subslide"
    }
   },
   "outputs": [],
   "source": [
    "# Read in data from CSV file 'pew-raw.csv' in data/ directory\n",
    "df = pd.r___\n",
    "\n",
    "# and display the original table\n",
    "df"
   ]
  },
  {
   "cell_type": "code",
   "execution_count": null,
   "metadata": {
    "slideshow": {
     "slide_type": "slide"
    }
   },
   "outputs": [],
   "source": [
    "# Pivot/melt every column except for \"religion\"\n",
    "# making a new column called \"income\" based on the old column headers\n",
    "# and a new column called \"freq\" based on the frequency values under those headers\n",
    "\n",
    "formatted_df = pd.m___\n",
    "\n",
    "# Display the first 15 values sorted by religion\n",
    "formatted_df.s___(___).h___"
   ]
  },
  {
   "cell_type": "code",
   "execution_count": null,
   "metadata": {},
   "outputs": [],
   "source": [
    "# Now sort again, this time storing the values, and this time descending by \"freq\"\n",
    "# so the highest frequency values are at the top\n",
    "# The default is NOT to sort \"in place\", so need to reassign to keep sorting results\n",
    "\n",
    "formatted_df = formatted_df.s___\n",
    "\n",
    "# display the results\n",
    "f___"
   ]
  }
 ],
 "metadata": {
  "kernelspec": {
   "display_name": "Python 3",
   "language": "python",
   "name": "python3"
  },
  "language_info": {
   "codemirror_mode": {
    "name": "ipython",
    "version": 3
   },
   "file_extension": ".py",
   "mimetype": "text/x-python",
   "name": "python",
   "nbconvert_exporter": "python",
   "pygments_lexer": "ipython3",
   "version": "3.6.2"
  }
 },
 "nbformat": 4,
 "nbformat_minor": 2
}
