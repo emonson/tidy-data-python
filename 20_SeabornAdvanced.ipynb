{
 "cells": [
  {
   "cell_type": "markdown",
   "metadata": {},
   "source": [
    "## Visualization with Seaborn\n",
    "\n",
    "**Here we want to highlight why tidy data is useful for exploratory analysis**\n",
    "\n",
    "- Visualizing individuals, distributions or aggregations of numerical measures\n",
    "- Splitting by categorical variables\n",
    "    - separating subsets spatially along an axis, \n",
    "    - distinguishing by color,\n",
    "    - or making separate plots in columns or rows\n",
    "\n",
    "Documentation: [https://seaborn.pydata.org/api.html]()\n",
    "\n",
    "Tips data set: [https://github.com/mwaskom/seaborn-data/blob/master/tips.csv]()\n",
    "This is a really nice data set for exploring differences between numerical values and distributions across a population distinguished by lots of categorical variables.\n",
    "\n",
    "*Bryant, P. G. and Smith, M (1995) Practical Data Analysis: Case Studies in Business Statistics. Homewood, IL: Richard D. Irwin Publishing*"
   ]
  },
  {
   "cell_type": "code",
   "execution_count": null,
   "metadata": {
    "collapsed": true
   },
   "outputs": [],
   "source": [
    "import seaborn as sns\n",
    "sns.set_style(\"whitegrid\")\n",
    "\n",
    "tips = sns.load_dataset(\"tips\")\n",
    "\n",
    "tips.head(10)"
   ]
  },
  {
   "cell_type": "markdown",
   "metadata": {},
   "source": [
    "### Individual variables & distributions\n",
    "\n",
    "The most basic form of exploration is to visualize the distribution of values in numerical columns. A histogram is the most classic, but there are some nice alternatives for smaller data sets."
   ]
  },
  {
   "cell_type": "markdown",
   "metadata": {},
   "source": [
    "#### Histogram\n",
    "\n",
    "\"This function combines the matplotlib hist function (with automatic calculation of a good default bin size) with the seaborn kdeplot() and rugplot() functions. It can also fit scipy.stats distributions and plot the estimated PDF over the data.\""
   ]
  },
  {
   "cell_type": "code",
   "execution_count": null,
   "metadata": {},
   "outputs": [],
   "source": [
    "ax = sns.distplot(tips.total_bill)"
   ]
  },
  {
   "cell_type": "markdown",
   "metadata": {},
   "source": [
    "You can turn on and off various aspects, and easily control how many bins are used."
   ]
  },
  {
   "cell_type": "code",
   "execution_count": null,
   "metadata": {},
   "outputs": [],
   "source": [
    "ax = sns.distplot(tips.total_bill, bins=30, kde=False, rug=True)"
   ]
  },
  {
   "cell_type": "markdown",
   "metadata": {},
   "source": [
    "Since `distplot()` is a convenience combination of a histogram, `kdeplot()`, and `rugplot()`, they include a way to pass extra keyword arguments to the internal functions, like for controlling the bandwidth (bw) of the kde plot."
   ]
  },
  {
   "cell_type": "code",
   "execution_count": null,
   "metadata": {},
   "outputs": [],
   "source": [
    "ax = sns.distplot(tips.total_bill, hist=False, rug=True, kde_kws={'bw':0.8})"
   ]
  },
  {
   "cell_type": "markdown",
   "metadata": {},
   "source": [
    "#### Strip plot\n",
    "\n",
    "You notice that the rug plot shows all individuals, but it's hard without the histogram or kde to tell how many points are overlapping. One solution is to \"jitter\" the points randomly along the categorical axis with `stripplot()`.\n",
    "\n",
    "This doesn't scale very well to huge datasets, but with small data it's nice to see each individual point as a mark."
   ]
  },
  {
   "cell_type": "code",
   "execution_count": null,
   "metadata": {},
   "outputs": [],
   "source": [
    "ax =  sns.stripplot(x='total_bill', data=tips, alpha=0.5, jitter=0.2)"
   ]
  },
  {
   "cell_type": "markdown",
   "metadata": {},
   "source": [
    "#### Swarm plot \n",
    "\n",
    "Jitter doesn't get rid of all overlap, though, so an interesting alternative to `stripplot()` is a `swarmplot()`. Points are stacked at their data value."
   ]
  },
  {
   "cell_type": "code",
   "execution_count": null,
   "metadata": {},
   "outputs": [],
   "source": [
    "ax = sns.swarmplot(x=\"total_bill\", data=tips)"
   ]
  },
  {
   "cell_type": "markdown",
   "metadata": {},
   "source": [
    "### Splitting by a categorical variable\n",
    "\n",
    "Now we can start seeing the power of splitting / subsetting the data (in space and/or color) by the values of a categorial variable.\n",
    "\n",
    "Here we split both in space, by \"day\", and in hue (color) by \"sex\"."
   ]
  },
  {
   "cell_type": "code",
   "execution_count": null,
   "metadata": {},
   "outputs": [],
   "source": [
    "ax = sns.swarmplot(x=\"day\", y=\"total_bill\", hue=\"sex\", data=tips)"
   ]
  },
  {
   "cell_type": "markdown",
   "metadata": {},
   "source": [
    "The violin plot itself can be \"split\" by a variable."
   ]
  },
  {
   "cell_type": "code",
   "execution_count": null,
   "metadata": {},
   "outputs": [],
   "source": [
    "ax = sns.violinplot(x=\"day\", y=\"tip\", hue=\"sex\", palette='Set2', split=True, data=tips)"
   ]
  },
  {
   "cell_type": "markdown",
   "metadata": {},
   "source": [
    "You can even superimpose plots by putting them on the same \"axis\"."
   ]
  },
  {
   "cell_type": "code",
   "execution_count": null,
   "metadata": {},
   "outputs": [],
   "source": [
    "ax = sns.boxplot(x=\"day\", y=\"total_bill\", color=(0.8, 0.8, 0.65, 0.5), data=tips)\n",
    "ax = sns.swarmplot(x=\"day\", y=\"total_bill\", color='black', alpha=0.3, data=tips)"
   ]
  },
  {
   "cell_type": "markdown",
   "metadata": {},
   "source": [
    "### Catplot for drawing categorical plots onto a (facet)grid\n",
    "\n",
    "Shows the relationship between a numerical and one or more categorical variables using one of several visual representations. The kind parameter selects the underlying function to use:\n",
    "\n",
    "Categorical scatterplots:\n",
    "- stripplot() (with kind=\"strip\"; the default)\n",
    "- swarmplot() (with kind=\"swarm\")\n",
    "\n",
    "Categorical distribution plots:\n",
    "- boxplot() (with kind=\"box\")\n",
    "- violinplot() (with kind=\"violin\")\n",
    "- boxenplot() (with kind=\"boxen\")\n",
    "\n",
    "Categorical estimate plots:\n",
    "- pointplot() (with kind=\"point\")\n",
    "- barplot() (with kind=\"bar\")\n",
    "- countplot() (with kind=\"count\")"
   ]
  },
  {
   "cell_type": "code",
   "execution_count": null,
   "metadata": {},
   "outputs": [],
   "source": [
    "g = sns.catplot(x=\"smoker\", y=\"total_bill\",\n",
    "                    hue=\"sex\", col=\"day\",\n",
    "                    data=tips, kind=\"bar\");"
   ]
  },
  {
   "cell_type": "markdown",
   "metadata": {},
   "source": [
    "### pointplot() – point estimates and confidence intervals\n",
    "\n",
    "\"A point plot represents an estimate of central tendency for a numeric variable by the position of scatter plot points and provides some indication of the uncertainty around that estimate using error bars.\n",
    "\n",
    "Point plots can be more useful than bar plots for focusing comparisons between different levels of one or more categorical variables. They are particularly adept at showing interactions: how the relationship between levels of one categorical variable changes across levels of a second categorical variable. The lines that join each point from the same hue level allow interactions to be judged by differences in slope, which is easier for the eyes than comparing the heights of several groups of points or bars.\""
   ]
  },
  {
   "cell_type": "code",
   "execution_count": null,
   "metadata": {},
   "outputs": [],
   "source": [
    "ax = sns.pointplot(x=\"time\", y=\"total_bill\", hue=\"smoker\",\n",
    "                    data=tips, dodge=True)"
   ]
  },
  {
   "cell_type": "markdown",
   "metadata": {},
   "source": [
    "### Joint plot (bivariate distributions)\n",
    "\n",
    "\"It can also be useful to visualize a bivariate distribution of two variables. The easiest way to do this in seaborn is to just use the `jointplot()` function, which creates a multi-panel figure that shows both the bivariate (or joint) relationship between two variables along with the univariate (or marginal) distribution of each on separate axes.\""
   ]
  },
  {
   "cell_type": "code",
   "execution_count": null,
   "metadata": {},
   "outputs": [],
   "source": [
    "g = sns.jointplot(x=\"total_bill\", y=\"tip\", data=tips)"
   ]
  },
  {
   "cell_type": "markdown",
   "metadata": {},
   "source": [
    "When there is a lot of overlap, it can be helpful to show a heatmap rather than individual points. **(Unfortunately, this doesn't produce a color legend!!)**"
   ]
  },
  {
   "cell_type": "code",
   "execution_count": null,
   "metadata": {},
   "outputs": [],
   "source": [
    "g = sns.jointplot(\"total_bill\", \"tip\", data=tips, kind=\"hex\", stat_func=None, )"
   ]
  },
  {
   "cell_type": "markdown",
   "metadata": {},
   "source": [
    "### Regression models"
   ]
  },
  {
   "cell_type": "code",
   "execution_count": null,
   "metadata": {},
   "outputs": [],
   "source": [
    "ax = sns.regplot(x=\"total_bill\", y=\"tip\", data=tips)"
   ]
  },
  {
   "cell_type": "code",
   "execution_count": null,
   "metadata": {},
   "outputs": [],
   "source": [
    "ax = sns.regplot(x=\"size\", y=\"total_bill\", data=tips, x_jitter=.1)"
   ]
  },
  {
   "cell_type": "markdown",
   "metadata": {},
   "source": [
    "### lmplot() – Plot data and regression model fits across a FacetGrid.\n",
    "\n",
    "This function combines `regplot()` and `FacetGrid`. It is intended as a convenient interface to fit regression models across conditional subsets of a dataset.\n",
    "\n",
    "When thinking about how to assign variables to different facets, a general rule is that it makes sense to use hue for the most important comparison, followed by col and row. However, always think about your particular dataset and the goals of the visualization you are creating."
   ]
  },
  {
   "cell_type": "code",
   "execution_count": null,
   "metadata": {},
   "outputs": [],
   "source": [
    "g = sns.lmplot(x=\"total_bill\", y=\"tip\", hue=\"smoker\", data=tips)"
   ]
  },
  {
   "cell_type": "markdown",
   "metadata": {},
   "source": [
    "It's very convenient to be able to **wrap the columns after a certain count**"
   ]
  },
  {
   "cell_type": "code",
   "execution_count": null,
   "metadata": {},
   "outputs": [],
   "source": [
    "g = sns.lmplot(x=\"total_bill\", y=\"tip\", col=\"day\", hue=\"day\",\n",
    "                data=tips, col_wrap=2, height=4)"
   ]
  },
  {
   "cell_type": "markdown",
   "metadata": {},
   "source": [
    "### Pairwise comparisons"
   ]
  },
  {
   "cell_type": "code",
   "execution_count": null,
   "metadata": {},
   "outputs": [],
   "source": [
    "iris = sns.load_dataset(\"iris\")\n",
    "sns.pairplot(iris, hue='species');"
   ]
  }
 ],
 "metadata": {
  "kernelspec": {
   "display_name": "Python 3",
   "language": "python",
   "name": "python3"
  },
  "language_info": {
   "codemirror_mode": {
    "name": "ipython",
    "version": 3
   },
   "file_extension": ".py",
   "mimetype": "text/x-python",
   "name": "python",
   "nbconvert_exporter": "python",
   "pygments_lexer": "ipython3",
   "version": "3.6.5"
  }
 },
 "nbformat": 4,
 "nbformat_minor": 2
}
